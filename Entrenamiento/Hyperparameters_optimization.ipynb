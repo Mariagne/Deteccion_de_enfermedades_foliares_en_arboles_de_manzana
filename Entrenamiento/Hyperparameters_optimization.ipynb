{
 "cells": [
  {
   "cell_type": "code",
   "execution_count": 14,
   "metadata": {},
   "outputs": [],
   "source": [
    "import pandas as pd\n",
    "from sklearn import svm\n",
    "from sklearn.utils import shuffle\n",
    "from sklearn.ensemble import RandomForestClassifier\n",
    "from sklearn.neighbors import KNeighborsClassifier\n",
    "from sklearn.svm import SVC\n",
    "from sklearn.model_selection import train_test_split\n",
    "from sklearn.metrics import accuracy_score\n",
    "import numpy as np\n",
    "import matplotlib.pyplot as plt\n",
    "from sklearn.model_selection import train_test_split, GridSearchCV\n",
    "import joblib"
   ]
  },
  {
   "cell_type": "code",
   "execution_count": 12,
   "metadata": {},
   "outputs": [],
   "source": [
    "data = pd.read_csv(\"..\\\\Base de datos\\\\Feature_extraction_extended.csv\")"
   ]
  },
  {
   "cell_type": "code",
   "execution_count": 13,
   "metadata": {},
   "outputs": [
    {
     "name": "stdout",
     "output_type": "stream",
     "text": [
      "Random Forest Accuracy (Validation): 0.9197530864197531\n",
      "kNN Accuracy (Validation): 0.8148148148148148\n",
      "SVM Accuracy (Validation): 0.9691358024691358\n",
      "Random Forest Accuracy (Test): 0.9135802469135802\n",
      "kNN Accuracy (Test): 0.7839506172839507\n",
      "SVM Accuracy (Test): 0.9320987654320988\n",
      "Mejores hiperparámetros para Random Forest: {'max_depth': 10, 'n_estimators': 200}\n",
      "Mejores hiperparámetros para kNN: {'n_neighbors': 7, 'weights': 'distance'}\n",
      "Mejores hiperparámetros para SVM: {'C': 1, 'kernel': 'linear'}\n"
     ]
    }
   ],
   "source": [
    "X = data.drop(['Image ID', 'Label'], axis=1)\n",
    "y = data['Label']\n",
    "\n",
    "# Dividir los datos en conjuntos de entrenamiento, validación y prueba\n",
    "X_train_val, X_test, y_train_val, y_test = train_test_split(X, y, test_size=0.2, random_state=42)\n",
    "X_train, X_val, y_train, y_val = train_test_split(X_train_val, y_train_val, test_size=0.25, random_state=42)  # 0.25 x 0.8 = 0.2\n",
    "\n",
    "# Crear los modelos iniciales\n",
    "rf_model = RandomForestClassifier(random_state=42)\n",
    "knn_model = KNeighborsClassifier()\n",
    "svm_model = SVC(random_state=42)\n",
    "\n",
    "# Definir los hiperparámetros a optimizar para cada modelo\n",
    "rf_params = {\n",
    "    'n_estimators': [50, 100, 200],\n",
    "    'max_depth': [None, 5, 10]\n",
    "}\n",
    "\n",
    "knn_params = {\n",
    "    'n_neighbors': [3, 5, 7],\n",
    "    'weights': ['uniform', 'distance']\n",
    "}\n",
    "\n",
    "svm_params = {\n",
    "    'C': [0.1, 1, 10],\n",
    "    'kernel': ['linear', 'rbf']\n",
    "}\n",
    "\n",
    "# Realizar la optimización de hiperparámetros para cada modelo\n",
    "rf_grid = GridSearchCV(rf_model, rf_params, cv=5)\n",
    "knn_grid = GridSearchCV(knn_model, knn_params, cv=5)\n",
    "svm_grid = GridSearchCV(svm_model, svm_params, cv=5)\n",
    "\n",
    "# Entrenar los modelos optimizados\n",
    "rf_grid.fit(X_train, y_train)\n",
    "knn_grid.fit(X_train, y_train)\n",
    "svm_grid.fit(X_train, y_train)\n",
    "\n",
    "# Obtener las mejores configuraciones de hiperparámetros y los mejores modelos\n",
    "best_rf_model = rf_grid.best_estimator_\n",
    "best_knn_model = knn_grid.best_estimator_\n",
    "best_svm_model = svm_grid.best_estimator_\n",
    "\n",
    "# Predecir las etiquetas para el conjunto de validación\n",
    "rf_val_predictions = best_rf_model.predict(X_val)\n",
    "knn_val_predictions = best_knn_model.predict(X_val)\n",
    "svm_val_predictions = best_svm_model.predict(X_val)\n",
    "\n",
    "# Calcular la precisión en el conjunto de validación\n",
    "rf_val_accuracy = accuracy_score(y_val, rf_val_predictions)\n",
    "knn_val_accuracy = accuracy_score(y_val, knn_val_predictions)\n",
    "svm_val_accuracy = accuracy_score(y_val, svm_val_predictions)\n",
    "\n",
    "# Imprimir la precisión en el conjunto de validación\n",
    "print(\"Random Forest Accuracy (Validation):\", rf_val_accuracy)\n",
    "print(\"kNN Accuracy (Validation):\", knn_val_accuracy)\n",
    "print(\"SVM Accuracy (Validation):\", svm_val_accuracy)\n",
    "\n",
    "# Predecir las etiquetas para el conjunto de prueba\n",
    "rf_test_predictions = best_rf_model.predict(X_test)\n",
    "knn_test_predictions = best_knn_model.predict(X_test)\n",
    "svm_test_predictions = best_svm_model.predict(X_test)\n",
    "\n",
    "# Calcular la precisión en el conjunto de prueba\n",
    "rf_test_accuracy = accuracy_score(y_test, rf_test_predictions)\n",
    "knn_test_accuracy = accuracy_score(y_test, knn_test_predictions)\n",
    "svm_test_accuracy = accuracy_score(y_test, svm_test_predictions)\n",
    "\n",
    "# Imprimir la precisión en el conjunto de prueba\n",
    "print(\"Random Forest Accuracy (Test):\", rf_test_accuracy)\n",
    "print(\"kNN Accuracy (Test):\", knn_test_accuracy)\n",
    "print(\"SVM Accuracy (Test):\", svm_test_accuracy)\n",
    "\n",
    "# Imprimir los mejores hiperparámetros para cada modelo\n",
    "print(\"Mejores hiperparámetros para Random Forest:\", rf_grid.best_params_)\n",
    "print(\"Mejores hiperparámetros para kNN:\", knn_grid.best_params_)\n",
    "print(\"Mejores hiperparámetros para SVM:\", svm_grid.best_params_)"
   ]
  },
  {
   "cell_type": "code",
   "execution_count": 16,
   "metadata": {},
   "outputs": [
    {
     "data": {
      "text/plain": [
       "['best_svm_model.pkl']"
      ]
     },
     "execution_count": 16,
     "metadata": {},
     "output_type": "execute_result"
    }
   ],
   "source": [
    "\n",
    "# Guardar los modelos entrenados en archivos\n",
    "joblib.dump(best_rf_model, 'best_rf_model.pkl')\n",
    "joblib.dump(best_knn_model, 'best_knn_model.pkl')\n",
    "joblib.dump(best_svm_model, 'best_svm_model.pkl')\n",
    "\n",
    "# # Cargar los modelos guardados desde archivos\n",
    "# best_rf_model = joblib.load('best_rf_model.pkl')\n",
    "# best_knn_model = joblib.load('best_knn_model.pkl')\n",
    "# best_svm_model = joblib.load('best_svm_model.pkl')"
   ]
  }
 ],
 "metadata": {
  "kernelspec": {
   "display_name": "Python 3",
   "language": "python",
   "name": "python3"
  },
  "language_info": {
   "codemirror_mode": {
    "name": "ipython",
    "version": 3
   },
   "file_extension": ".py",
   "mimetype": "text/x-python",
   "name": "python",
   "nbconvert_exporter": "python",
   "pygments_lexer": "ipython3",
   "version": "3.11.3"
  },
  "orig_nbformat": 4
 },
 "nbformat": 4,
 "nbformat_minor": 2
}
